{
 "cells": [
  {
   "cell_type": "markdown",
   "source": [
    "# First steps\n",
    "\n",
    "Before we go straight into coding, let us do a little introduction to what is `R` and why we should be interested in learning it.\n",
    "\n",
    "## What is `R`?\n",
    "\n",
    "According to Wikipedia:\n",
    "\n",
    "_`R` is a programming language and free software environment for statistical computing and graphics... It is widely used among statisticians and data miners for developing statistical software and data analysis._\n",
    "\n",
    "`R` was created around by [Ross Ihaka](https://en.wikipedia.org/wiki/Ross_Ihaka) and [Robert Gentleman](https://en.wikipedia.org/wiki/Robert_Gentleman_(statistician)) at the [University of Auckland](https://en.wikipedia.org/wiki/University_of_Auckland) in New Zealand and realizing its first beta stable versions in 2000. Although, in the beginning, `R` was mainly used in academia, currently, it is widely used in several industries, such as healthcare, insurance finance, etc. \n",
    "\n",
    "## What is `R` used for?\n",
    "\n",
    "As mentioned above, the main prupose of `R` is to to create analysis and graphs using data. let us dive deeper into this. Among the main use cases of `R` are the following:\n",
    "\n",
    "* __Data Science__: When it comes to programming languages, along with `python`, `R` is the first skill a data scientist need to add to their toolbox. Since they will require a programming language suitable to perform data analysis, create graphs and implement machine learning models.\n",
    "\n",
    "* __Statistical Computing__: `R` is the go-to programing language for statisticians and mathematicians working on areas related to statistics and probability. That is why, whenever they develop a new statistical model or algorithm, chances of coming out first in `R` are pretty high. So, `R` is the best option if we want to keep up with state of the art satistical techniques.\n",
    "\n",
    "*__Machine Learning__*: `R` has an immense variety of machine learning libraries and algorithms ready to be installed and ran. Suppose the reader is already familiar with `python`. In that case, they could ask _What the chances of `python` having more machine learning features than R are?_ this reader should not be worried since most `python` libraries have their R counterpart.\n",
    "\n",
    "After this brief introduction to `R`, we can start talkin about coding.  In this notebook we go throught the most essential concepts of `R` programing, such as syntax, variables and datatypes.  \n",
    "\n",
    "\n",
    "\n",
    "\n"
   ],
   "metadata": {}
  },
  {
   "cell_type": "markdown",
   "source": [
    "## 1. Variables"
   ],
   "metadata": {}
  },
  {
   "cell_type": "markdown",
   "source": [
    "## 2. Datatypes"
   ],
   "metadata": {}
  },
  {
   "cell_type": "code",
   "execution_count": null,
   "source": [],
   "outputs": [],
   "metadata": {}
  },
  {
   "cell_type": "code",
   "execution_count": null,
   "source": [],
   "outputs": [],
   "metadata": {}
  },
  {
   "cell_type": "code",
   "execution_count": null,
   "source": [],
   "outputs": [],
   "metadata": {}
  }
 ],
 "metadata": {
  "orig_nbformat": 4,
  "language_info": {
   "name": "R",
   "codemirror_mode": "r",
   "pygments_lexer": "r",
   "mimetype": "text/x-r-source",
   "file_extension": ".r",
   "version": "3.6.1"
  },
  "kernelspec": {
   "name": "python382jvsc74a57bd068d4e7e528653aaa28190cb2256e9d18acd4e84f345389aa19128feee769fc8a",
   "display_name": "R",
   "language": "R"
  }
 },
 "nbformat": 4,
 "nbformat_minor": 2
}