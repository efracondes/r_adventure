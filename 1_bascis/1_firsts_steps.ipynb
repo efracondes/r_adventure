{
 "cells": [
  {
   "cell_type": "markdown",
   "source": [
    "# First steps\n",
    "\n",
    "Before we go straight into coding, let's do a little introduction to what is `R` anf why should we be interested in learning it.\n",
    "\n",
    "## What is R?\n",
    "\n",
    "According to [wikipedia](https://en.wikipedia.org/wiki/R_(programming_language)):\n",
    "\n",
    "_`R` is a programming language and free software environment for statistical computing and graphics... It is widely used among statisticians and data miners for developing statistical software and data analysis._\n",
    "\n",
    "`R` was created around 1993 by [Ross Ihaka](https://en.wikipedia.org/wiki/Ross_Ihaka) and [Robert Gentleman](https://en.wikipedia.org/wiki/Robert_Gentleman_(statistician)) at the [University of Auckland](https://en.wikipedia.org/wiki/University_of_Auckland) in New Zealand"
   ],
   "metadata": {}
  },
  {
   "cell_type": "code",
   "execution_count": null,
   "source": [],
   "outputs": [],
   "metadata": {}
  },
  {
   "cell_type": "code",
   "execution_count": null,
   "source": [],
   "outputs": [],
   "metadata": {}
  },
  {
   "cell_type": "code",
   "execution_count": null,
   "source": [],
   "outputs": [],
   "metadata": {}
  },
  {
   "cell_type": "code",
   "execution_count": null,
   "source": [],
   "outputs": [],
   "metadata": {}
  },
  {
   "cell_type": "code",
   "execution_count": null,
   "source": [],
   "outputs": [],
   "metadata": {}
  }
 ],
 "metadata": {
  "orig_nbformat": 4,
  "language_info": {
   "name": "R",
   "codemirror_mode": "r",
   "pygments_lexer": "r",
   "mimetype": "text/x-r-source",
   "file_extension": ".r",
   "version": "3.6.1"
  },
  "kernelspec": {
   "name": "python382jvsc74a57bd068d4e7e528653aaa28190cb2256e9d18acd4e84f345389aa19128feee769fc8a",
   "display_name": "R",
   "language": "R"
  }
 },
 "nbformat": 4,
 "nbformat_minor": 2
}