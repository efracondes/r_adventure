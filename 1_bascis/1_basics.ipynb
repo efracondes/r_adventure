{
 "cells": [
  {
   "cell_type": "code",
   "execution_count": 1,
   "source": [
    "PrintIntegers <- function(integer) {\n",
    "    vector <- 1:integer\n",
    "    for(element in vector){\n",
    "        print(element)\n",
    "    }\n",
    "}\n",
    "\n",
    "PrintIntegers(10)"
   ],
   "outputs": [
    {
     "output_type": "stream",
     "name": "stdout",
     "text": [
      "[1] 1\n",
      "[1] 2\n",
      "[1] 3\n",
      "[1] 4\n",
      "[1] 5\n",
      "[1] 6\n",
      "[1] 7\n",
      "[1] 8\n",
      "[1] 9\n",
      "[1] 10\n"
     ]
    }
   ],
   "metadata": {}
  },
  {
   "cell_type": "code",
   "execution_count": 2,
   "source": [
    "print('Writing R code in jupyter notebooks!')"
   ],
   "outputs": [
    {
     "output_type": "stream",
     "name": "stdout",
     "text": [
      "[1] \"Writing R code in jupyter notebooks!\"\n"
     ]
    }
   ],
   "metadata": {}
  },
  {
   "cell_type": "code",
   "execution_count": 3,
   "source": [
    "v <- c('H','E','L','L','O',' ','W','O','R','L','D','!')\n",
    "\n",
    "for(i in v){\n",
    "    print(i)\n",
    "}"
   ],
   "outputs": [
    {
     "output_type": "stream",
     "name": "stdout",
     "text": [
      "[1] \"H\"\n",
      "[1] \"E\"\n",
      "[1] \"L\"\n",
      "[1] \"L\"\n",
      "[1] \"O\"\n",
      "[1] \" \"\n",
      "[1] \"W\"\n",
      "[1] \"O\"\n",
      "[1] \"R\"\n",
      "[1] \"L\"\n",
      "[1] \"D\"\n",
      "[1] \"!\"\n"
     ]
    }
   ],
   "metadata": {}
  }
 ],
 "metadata": {
  "orig_nbformat": 4,
  "language_info": {
   "name": "R",
   "codemirror_mode": "r",
   "pygments_lexer": "r",
   "mimetype": "text/x-r-source",
   "file_extension": ".r",
   "version": "3.6.1"
  },
  "kernelspec": {
   "name": "python382jvsc74a57bd068d4e7e528653aaa28190cb2256e9d18acd4e84f345389aa19128feee769fc8a",
   "display_name": "R",
   "language": "R"
  }
 },
 "nbformat": 4,
 "nbformat_minor": 2
}